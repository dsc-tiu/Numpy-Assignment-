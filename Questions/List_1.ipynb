{
  "nbformat": 4,
  "nbformat_minor": 0,
  "metadata": {
    "colab": {
      "name": "List 1.ipynb",
      "provenance": []
    },
    "kernelspec": {
      "name": "python3",
      "display_name": "Python 3"
    }
  },
  "cells": [
    {
      "cell_type": "markdown",
      "metadata": {
        "id": "e0R1W0Vzm4UU",
        "colab_type": "text"
      },
      "source": [
        "# Exercise - List"
      ]
    },
    {
      "cell_type": "markdown",
      "metadata": {
        "id": "TrO7XNQnnQZ7",
        "colab_type": "text"
      },
      "source": [
        "1) Create  any random list and assign it to a variable dummy_list"
      ]
    },
    {
      "cell_type": "code",
      "metadata": {
        "id": "bjl-2QkznWid",
        "colab_type": "code",
        "colab": {}
      },
      "source": [
        "import random\n",
        "list=[random.randrange(0,10,1) for i in range(10)] \n",
        "dummy_list=list"
      ],
      "execution_count": 0,
      "outputs": []
    },
    {
      "cell_type": "markdown",
      "metadata": {
        "id": "cDjddNGfngnp",
        "colab_type": "text"
      },
      "source": [
        "2) print dummy_list"
      ]
    },
    {
      "cell_type": "code",
      "metadata": {
        "id": "RVL5178inz9M",
        "colab_type": "code",
        "outputId": "f8561a22-52c7-4932-ae3e-2bcb482a1d9d",
        "colab": {
          "base_uri": "https://localhost:8080/",
          "height": 34
        }
      },
      "source": [
        "print(dummy_list)"
      ],
      "execution_count": 57,
      "outputs": [
        {
          "output_type": "stream",
          "text": [
            "[2, 2, 9, 2, 6, 9, 6, 7, 0, 9]\n"
          ],
          "name": "stdout"
        }
      ]
    },
    {
      "cell_type": "markdown",
      "metadata": {
        "id": "15jKDXxkn16M",
        "colab_type": "text"
      },
      "source": [
        "3) Reverse dummy_list and print"
      ]
    },
    {
      "cell_type": "code",
      "metadata": {
        "id": "0Q5yeD9x9xIA",
        "colab_type": "code",
        "outputId": "20895fce-3163-4751-89ab-6f13a650119a",
        "colab": {
          "base_uri": "https://localhost:8080/",
          "height": 34
        }
      },
      "source": [
        "def Rev(dummy_list): \n",
        "\tlist2=dummy_list[::-1]\n",
        "\treturn list2\n",
        "print(Rev(dummy_list))"
      ],
      "execution_count": 59,
      "outputs": [
        {
          "output_type": "stream",
          "text": [
            "[9, 0, 7, 6, 9, 6, 2, 9, 2, 2]\n"
          ],
          "name": "stdout"
        }
      ]
    },
    {
      "cell_type": "markdown",
      "metadata": {
        "id": "EShv0nfXpUys",
        "colab_type": "text"
      },
      "source": [
        "4) Add the list dummy_list_2 to the previous dummy_list and now print dummy_list"
      ]
    },
    {
      "cell_type": "code",
      "metadata": {
        "colab_type": "code",
        "outputId": "b111bd8f-39d6-4613-84e3-bda33fbc8f4e",
        "id": "5u_ZzmmJ-d1j",
        "colab": {
          "base_uri": "https://localhost:8080/",
          "height": 34
        }
      },
      "source": [
        "dummy_list_2=[2, 200, 16, 4, 1, 0, 9.45, 45.67, 90, 12.01, 12.02]\n",
        "dummy_list=dummy_list+dummy_list_2\n",
        "print(dummy_list)"
      ],
      "execution_count": 60,
      "outputs": [
        {
          "output_type": "stream",
          "text": [
            "[2, 2, 9, 2, 6, 9, 6, 7, 0, 9, 2, 200, 16, 4, 1, 0, 9.45, 45.67, 90, 12.01, 12.02]\n"
          ],
          "name": "stdout"
        }
      ]
    },
    {
      "cell_type": "markdown",
      "metadata": {
        "id": "Le1aRTuYoDzS",
        "colab_type": "text"
      },
      "source": [
        "5) Create a dictionary named dummy_dict which contains all the elements of dummy_list as keys and frequency as values. "
      ]
    },
    {
      "cell_type": "code",
      "metadata": {
        "id": "Nsm8sYPyJoVU",
        "colab_type": "code",
        "colab": {}
      },
      "source": [
        "dummy_dict={}\n",
        "l=len(dummy_list)\n",
        "for i in range(l):\n",
        "  dummy_dict[dummy_list[i]]=dummy_list.count(dummy_list[i])"
      ],
      "execution_count": 0,
      "outputs": []
    },
    {
      "cell_type": "markdown",
      "metadata": {
        "id": "RgCYpFXGou6q",
        "colab_type": "text"
      },
      "source": [
        "6) print dummy_dict"
      ]
    },
    {
      "cell_type": "code",
      "metadata": {
        "id": "qe5E5IgxpTWU",
        "colab_type": "code",
        "outputId": "8ec87c7f-5de6-41b8-8607-70a681685922",
        "colab": {
          "base_uri": "https://localhost:8080/",
          "height": 34
        }
      },
      "source": [
        "print(dummy_dict)"
      ],
      "execution_count": 62,
      "outputs": [
        {
          "output_type": "stream",
          "text": [
            "{2: 4, 9: 3, 6: 2, 7: 1, 0: 2, 200: 1, 16: 1, 4: 1, 1: 1, 9.45: 1, 45.67: 1, 90: 1, 12.01: 1, 12.02: 1}\n"
          ],
          "name": "stdout"
        }
      ]
    },
    {
      "cell_type": "markdown",
      "metadata": {
        "id": "8n_nsBDup4--",
        "colab_type": "text"
      },
      "source": [
        "7) Sort dummy_list in ascending order as well as descending order and print the changed lists "
      ]
    },
    {
      "cell_type": "code",
      "metadata": {
        "colab_type": "code",
        "outputId": "7adc408e-15b9-4912-87f5-ef1e0886d7fe",
        "id": "tFVJt1_x_nxr",
        "colab": {
          "base_uri": "https://localhost:8080/",
          "height": 34
        }
      },
      "source": [
        "dummy_list.sort()\n",
        "print(dummy_list)"
      ],
      "execution_count": 63,
      "outputs": [
        {
          "output_type": "stream",
          "text": [
            "[0, 0, 1, 2, 2, 2, 2, 4, 6, 6, 7, 9, 9, 9, 9.45, 12.01, 12.02, 16, 45.67, 90, 200]\n"
          ],
          "name": "stdout"
        }
      ]
    },
    {
      "cell_type": "code",
      "metadata": {
        "colab_type": "code",
        "outputId": "f4e14f39-0e68-4d90-95ae-97e40c3bb057",
        "id": "YY2mWZkh_vHl",
        "colab": {
          "base_uri": "https://localhost:8080/",
          "height": 34
        }
      },
      "source": [
        "dummy_list.sort(reverse=True)\n",
        "print(dummy_list)"
      ],
      "execution_count": 64,
      "outputs": [
        {
          "output_type": "stream",
          "text": [
            "[200, 90, 45.67, 16, 12.02, 12.01, 9.45, 9, 9, 9, 7, 6, 6, 4, 2, 2, 2, 2, 1, 0, 0]\n"
          ],
          "name": "stdout"
        }
      ]
    },
    {
      "cell_type": "markdown",
      "metadata": {
        "id": "Znm5Qo4LqPKA",
        "colab_type": "text"
      },
      "source": [
        "8) Remove the first item from the list whose value is equal to x. It raises a ValueError if there is no such item."
      ]
    },
    {
      "cell_type": "code",
      "metadata": {
        "id": "qZ_OxRW8_6uU",
        "colab_type": "code",
        "outputId": "9e6b1c00-8cb3-49d4-c338-fdf24bd97a48",
        "colab": {
          "base_uri": "https://localhost:8080/",
          "height": 218
        }
      },
      "source": [
        "x=input(\"Enter the element to be removed from the list:\")\n",
        "dummy_list.remove(int(x))\n",
        "print(dummy_list)"
      ],
      "execution_count": 65,
      "outputs": [
        {
          "output_type": "stream",
          "text": [
            "Enter the element to be removed from the list:17\n"
          ],
          "name": "stdout"
        },
        {
          "output_type": "error",
          "ename": "ValueError",
          "evalue": "ignored",
          "traceback": [
            "\u001b[0;31m---------------------------------------------------------------------------\u001b[0m",
            "\u001b[0;31mValueError\u001b[0m                                Traceback (most recent call last)",
            "\u001b[0;32m<ipython-input-65-73809e35fb5c>\u001b[0m in \u001b[0;36m<module>\u001b[0;34m()\u001b[0m\n\u001b[1;32m      1\u001b[0m \u001b[0mx\u001b[0m\u001b[0;34m=\u001b[0m\u001b[0minput\u001b[0m\u001b[0;34m(\u001b[0m\u001b[0;34m\"Enter the element to be removed from the list:\"\u001b[0m\u001b[0;34m)\u001b[0m\u001b[0;34m\u001b[0m\u001b[0;34m\u001b[0m\u001b[0m\n\u001b[0;32m----> 2\u001b[0;31m \u001b[0mdummy_list\u001b[0m\u001b[0;34m.\u001b[0m\u001b[0mremove\u001b[0m\u001b[0;34m(\u001b[0m\u001b[0mint\u001b[0m\u001b[0;34m(\u001b[0m\u001b[0mx\u001b[0m\u001b[0;34m)\u001b[0m\u001b[0;34m)\u001b[0m\u001b[0;34m\u001b[0m\u001b[0;34m\u001b[0m\u001b[0m\n\u001b[0m\u001b[1;32m      3\u001b[0m \u001b[0mprint\u001b[0m\u001b[0;34m(\u001b[0m\u001b[0mdummy_list\u001b[0m\u001b[0;34m)\u001b[0m\u001b[0;34m\u001b[0m\u001b[0;34m\u001b[0m\u001b[0m\n",
            "\u001b[0;31mValueError\u001b[0m: list.remove(x): x not in list"
          ]
        }
      ]
    },
    {
      "cell_type": "markdown",
      "metadata": {
        "id": "QPB6iGbeqviN",
        "colab_type": "text"
      },
      "source": [
        "9) Remove the item at position x. x is any random integer"
      ]
    },
    {
      "cell_type": "code",
      "metadata": {
        "id": "aMyo1gmRrVHo",
        "colab_type": "code",
        "outputId": "aa300296-3c11-40e4-ce03-abbcc16ebcf7",
        "colab": {
          "base_uri": "https://localhost:8080/",
          "height": 52
        }
      },
      "source": [
        "x=random.randint(0, len(dummy_list))\n",
        "print(int(x))\n",
        "dummy_list.pop(int(x))\n",
        "print(dummy_list)"
      ],
      "execution_count": 54,
      "outputs": [
        {
          "output_type": "stream",
          "text": [
            "8\n",
            "[200, 45.67, 16, 12.02, 12.01, 9.45, 9, 9, 4, 3, 3, 3, 2, 2, 2, 1, 1, 0, 0]\n"
          ],
          "name": "stdout"
        }
      ]
    },
    {
      "cell_type": "code",
      "metadata": {
        "id": "-ySUW8NMwn3h",
        "colab_type": "code",
        "colab": {
          "base_uri": "https://localhost:8080/",
          "height": 201
        },
        "outputId": "7cf008d0-e5c1-46bc-f0e1-23b15c67be12"
      },
      "source": [
        "x=30\n",
        "dummy_list.pop(int(x))\n",
        "print(dummy_list)"
      ],
      "execution_count": 66,
      "outputs": [
        {
          "output_type": "error",
          "ename": "IndexError",
          "evalue": "ignored",
          "traceback": [
            "\u001b[0;31m---------------------------------------------------------------------------\u001b[0m",
            "\u001b[0;31mIndexError\u001b[0m                                Traceback (most recent call last)",
            "\u001b[0;32m<ipython-input-66-4c6d518ea5be>\u001b[0m in \u001b[0;36m<module>\u001b[0;34m()\u001b[0m\n\u001b[1;32m      1\u001b[0m \u001b[0mx\u001b[0m\u001b[0;34m=\u001b[0m\u001b[0;36m30\u001b[0m\u001b[0;34m\u001b[0m\u001b[0;34m\u001b[0m\u001b[0m\n\u001b[0;32m----> 2\u001b[0;31m \u001b[0mdummy_list\u001b[0m\u001b[0;34m.\u001b[0m\u001b[0mpop\u001b[0m\u001b[0;34m(\u001b[0m\u001b[0mint\u001b[0m\u001b[0;34m(\u001b[0m\u001b[0mx\u001b[0m\u001b[0;34m)\u001b[0m\u001b[0;34m)\u001b[0m\u001b[0;34m\u001b[0m\u001b[0;34m\u001b[0m\u001b[0m\n\u001b[0m\u001b[1;32m      3\u001b[0m \u001b[0mprint\u001b[0m\u001b[0;34m(\u001b[0m\u001b[0mdummy_list\u001b[0m\u001b[0;34m)\u001b[0m\u001b[0;34m\u001b[0m\u001b[0;34m\u001b[0m\u001b[0m\n",
            "\u001b[0;31mIndexError\u001b[0m: pop index out of range"
          ]
        }
      ]
    },
    {
      "cell_type": "markdown",
      "metadata": {
        "id": "bqQnnsr8rm6G",
        "colab_type": "text"
      },
      "source": [
        "10) Let's clean everything clear the list and then print"
      ]
    },
    {
      "cell_type": "code",
      "metadata": {
        "id": "qBC8lKpLrtJW",
        "colab_type": "code",
        "outputId": "cd957854-44b9-40ec-94b0-613627ff7bc1",
        "colab": {
          "base_uri": "https://localhost:8080/",
          "height": 34
        }
      },
      "source": [
        "dummy_list.clear()\n",
        "print(dummy_list)"
      ],
      "execution_count": 67,
      "outputs": [
        {
          "output_type": "stream",
          "text": [
            "[]\n"
          ],
          "name": "stdout"
        }
      ]
    }
  ]
}