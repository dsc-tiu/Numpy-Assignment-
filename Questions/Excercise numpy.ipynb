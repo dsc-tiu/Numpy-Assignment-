{
  "nbformat": 4,
  "nbformat_minor": 0,
  "metadata": {
    "colab": {
      "name": "Excercise numpy .ipynb",
      "provenance": []
    },
    "kernelspec": {
      "name": "python3",
      "display_name": "Python 3"
    }
  },
  "cells": [
    {
      "cell_type": "markdown",
      "metadata": {
        "id": "a_4UupTr9fbX",
        "colab_type": "text"
      },
      "source": [
        "# Numpy Exercises\n",
        "\n",
        "1) Create a uniform subdivision of the interval -1.3 to 2.5 with 64 subdivisions"
      ]
    },
    {
      "cell_type": "code",
      "metadata": {
        "id": "LIP5u4zi0Nmg",
        "colab_type": "code",
        "outputId": "6e3acbc3-6867-441f-acc8-ac8eae278a34",
        "colab": {
          "base_uri": "https://localhost:8080/",
          "height": 199
        }
      },
      "source": [
        "import numpy as numpy\n",
        "array=numpy.linspace(-1.3,2.5,64)\n",
        "print(array)"
      ],
      "execution_count": 3,
      "outputs": [
        {
          "output_type": "stream",
          "text": [
            "[-1.3        -1.23968254 -1.17936508 -1.11904762 -1.05873016 -0.9984127\n",
            " -0.93809524 -0.87777778 -0.81746032 -0.75714286 -0.6968254  -0.63650794\n",
            " -0.57619048 -0.51587302 -0.45555556 -0.3952381  -0.33492063 -0.27460317\n",
            " -0.21428571 -0.15396825 -0.09365079 -0.03333333  0.02698413  0.08730159\n",
            "  0.14761905  0.20793651  0.26825397  0.32857143  0.38888889  0.44920635\n",
            "  0.50952381  0.56984127  0.63015873  0.69047619  0.75079365  0.81111111\n",
            "  0.87142857  0.93174603  0.99206349  1.05238095  1.11269841  1.17301587\n",
            "  1.23333333  1.29365079  1.35396825  1.41428571  1.47460317  1.53492063\n",
            "  1.5952381   1.65555556  1.71587302  1.77619048  1.83650794  1.8968254\n",
            "  1.95714286  2.01746032  2.07777778  2.13809524  2.1984127   2.25873016\n",
            "  2.31904762  2.37936508  2.43968254  2.5       ]\n"
          ],
          "name": "stdout"
        }
      ]
    },
    {
      "cell_type": "markdown",
      "metadata": {
        "id": "dBoH_A7M9jjL",
        "colab_type": "text"
      },
      "source": [
        "2) Generate an array of length 3n filled with the cyclic pattern 1, 2, 3"
      ]
    },
    {
      "cell_type": "code",
      "metadata": {
        "colab_type": "code",
        "outputId": "3b90a53f-296b-4fab-f6d0-d5f4705c075e",
        "id": "0R5YkLxKRkbM",
        "colab": {
          "base_uri": "https://localhost:8080/",
          "height": 66
        }
      },
      "source": [
        "import numpy as numpy\n",
        "array=numpy.array([1,2,3])\n",
        "print(array)\n",
        "length=input(\"Enter the value of n such that the new array becomes of size 3n: \")\n",
        "array=numpy.resize(array,(1,3*int(length)))\n",
        "print (array)"
      ],
      "execution_count": 62,
      "outputs": [
        {
          "output_type": "stream",
          "text": [
            "[1 2 3]\n",
            "Enter the value of n such that the new array becomes of size 3n: 4\n",
            "[[1 2 3 1 2 3 1 2 3 1 2 3]]\n"
          ],
          "name": "stdout"
        }
      ]
    },
    {
      "cell_type": "markdown",
      "metadata": {
        "id": "Vh-UKizx9oTp",
        "colab_type": "text"
      },
      "source": [
        "3) Create an array of the first 10 odd integers."
      ]
    },
    {
      "cell_type": "code",
      "metadata": {
        "id": "ebhEUZq29r32",
        "colab_type": "code",
        "outputId": "b7baecf5-ea82-4262-c1c8-c751234b7f2c",
        "colab": {
          "base_uri": "https://localhost:8080/",
          "height": 33
        }
      },
      "source": [
        "import numpy as numpy\n",
        "array=numpy.arange(1,20,2)\n",
        "print(array)"
      ],
      "execution_count": 56,
      "outputs": [
        {
          "output_type": "stream",
          "text": [
            "[ 1  3  5  7  9 11 13 15 17 19]\n"
          ],
          "name": "stdout"
        }
      ]
    },
    {
      "cell_type": "markdown",
      "metadata": {
        "id": "QfJRdMat90f4",
        "colab_type": "text"
      },
      "source": [
        "4) Find intersection of a and b"
      ]
    },
    {
      "cell_type": "code",
      "metadata": {
        "id": "gOlfuJCo-JwF",
        "colab_type": "code",
        "outputId": "888b1736-542f-4ee7-a264-6e500cd97240",
        "colab": {
          "base_uri": "https://localhost:8080/",
          "height": 33
        }
      },
      "source": [
        "import numpy as numpy\n",
        "array1=numpy.array([1,2,3,4,5,6])\n",
        "array2=numpy.array([5,6,7,8,9,10])\n",
        "print(numpy.intersect1d(array1,array2))"
      ],
      "execution_count": 61,
      "outputs": [
        {
          "output_type": "stream",
          "text": [
            "[5 6]\n"
          ],
          "name": "stdout"
        }
      ]
    },
    {
      "cell_type": "markdown",
      "metadata": {
        "id": "RtVCf0UoCeB8",
        "colab_type": "text"
      },
      "source": [
        "5) Reshape 1d array a to 2d array of 2X5"
      ]
    },
    {
      "cell_type": "code",
      "metadata": {
        "id": "2E8b55_2Cjx5",
        "colab_type": "code",
        "outputId": "8a6b55a6-f017-4e10-e72d-4480dbcafc68",
        "colab": {
          "base_uri": "https://localhost:8080/",
          "height": 50
        }
      },
      "source": [
        "import numpy as numpy\n",
        "array1=numpy.array([10,20,30,40,50,60,70,80,90,100])\n",
        "array2=numpy.reshape(array1,(2,5))\n",
        "print(array2)"
      ],
      "execution_count": 66,
      "outputs": [
        {
          "output_type": "stream",
          "text": [
            "[[ 10  20  30  40  50]\n",
            " [ 60  70  80  90 100]]\n"
          ],
          "name": "stdout"
        }
      ]
    },
    {
      "cell_type": "markdown",
      "metadata": {
        "id": "dVrSBW1zEjp2",
        "colab_type": "text"
      },
      "source": [
        "6) Create a numpy array to list and vice versa"
      ]
    },
    {
      "cell_type": "code",
      "metadata": {
        "id": "TLWmsiiR0-T6",
        "colab_type": "code",
        "outputId": "e38b3435-c78a-491d-94d5-7346a157d207",
        "colab": {
          "base_uri": "https://localhost:8080/",
          "height": 33
        }
      },
      "source": [
        "import numpy as numpy\n",
        "array=numpy.array([10,20,30,40,50,60,70,80,90,100])\n",
        "print(array.tolist())"
      ],
      "execution_count": 69,
      "outputs": [
        {
          "output_type": "stream",
          "text": [
            "[10, 20, 30, 40, 50, 60, 70, 80, 90, 100]\n"
          ],
          "name": "stdout"
        }
      ]
    },
    {
      "cell_type": "code",
      "metadata": {
        "id": "DGcqFBR51jfh",
        "colab_type": "code",
        "outputId": "7d54232f-d8cb-46c6-c167-d34ae5c2d319",
        "colab": {
          "base_uri": "https://localhost:8080/",
          "height": 33
        }
      },
      "source": [
        "import numpy as numpy\n",
        "list=[10,20,30,40,50,60,70,80,90,100]\n",
        "array=numpy.array(list)\n",
        "print(array)\n"
      ],
      "execution_count": 71,
      "outputs": [
        {
          "output_type": "stream",
          "text": [
            "[ 10  20  30  40  50  60  70  80  90 100]\n"
          ],
          "name": "stdout"
        }
      ]
    },
    {
      "cell_type": "markdown",
      "metadata": {
        "id": "JNqX8wnz9sQJ",
        "colab_type": "text"
      },
      "source": [
        "7) Create a 10 x 10 arrays of zeros and then \"frame\" it with a border of ones."
      ]
    },
    {
      "cell_type": "code",
      "metadata": {
        "id": "4bjP3JAc9vRD",
        "colab_type": "code",
        "outputId": "2ced04fe-86a1-48c2-8650-51b05b162408",
        "colab": {
          "base_uri": "https://localhost:8080/",
          "height": 414
        }
      },
      "source": [
        "import numpy as numpy\n",
        "array=numpy.zeros((10,10))\n",
        "print(\"Original array of size 10x10:\")\n",
        "print(array)\n",
        "print(\"Modified array after 'framing':\")\n",
        "array=numpy.pad(array,pad_width=1,constant_values=1)\n",
        "print(array)"
      ],
      "execution_count": 73,
      "outputs": [
        {
          "output_type": "stream",
          "text": [
            "Original array of size 10x10:\n",
            "[[0. 0. 0. 0. 0. 0. 0. 0. 0. 0.]\n",
            " [0. 0. 0. 0. 0. 0. 0. 0. 0. 0.]\n",
            " [0. 0. 0. 0. 0. 0. 0. 0. 0. 0.]\n",
            " [0. 0. 0. 0. 0. 0. 0. 0. 0. 0.]\n",
            " [0. 0. 0. 0. 0. 0. 0. 0. 0. 0.]\n",
            " [0. 0. 0. 0. 0. 0. 0. 0. 0. 0.]\n",
            " [0. 0. 0. 0. 0. 0. 0. 0. 0. 0.]\n",
            " [0. 0. 0. 0. 0. 0. 0. 0. 0. 0.]\n",
            " [0. 0. 0. 0. 0. 0. 0. 0. 0. 0.]\n",
            " [0. 0. 0. 0. 0. 0. 0. 0. 0. 0.]]\n",
            "Modified array after 'framing':\n",
            "[[1. 1. 1. 1. 1. 1. 1. 1. 1. 1. 1. 1.]\n",
            " [1. 0. 0. 0. 0. 0. 0. 0. 0. 0. 0. 1.]\n",
            " [1. 0. 0. 0. 0. 0. 0. 0. 0. 0. 0. 1.]\n",
            " [1. 0. 0. 0. 0. 0. 0. 0. 0. 0. 0. 1.]\n",
            " [1. 0. 0. 0. 0. 0. 0. 0. 0. 0. 0. 1.]\n",
            " [1. 0. 0. 0. 0. 0. 0. 0. 0. 0. 0. 1.]\n",
            " [1. 0. 0. 0. 0. 0. 0. 0. 0. 0. 0. 1.]\n",
            " [1. 0. 0. 0. 0. 0. 0. 0. 0. 0. 0. 1.]\n",
            " [1. 0. 0. 0. 0. 0. 0. 0. 0. 0. 0. 1.]\n",
            " [1. 0. 0. 0. 0. 0. 0. 0. 0. 0. 0. 1.]\n",
            " [1. 0. 0. 0. 0. 0. 0. 0. 0. 0. 0. 1.]\n",
            " [1. 1. 1. 1. 1. 1. 1. 1. 1. 1. 1. 1.]]\n"
          ],
          "name": "stdout"
        }
      ]
    },
    {
      "cell_type": "markdown",
      "metadata": {
        "id": "xaQgf8tT9v-n",
        "colab_type": "text"
      },
      "source": [
        "8) Create an 8 x 8 array with a checkerboard pattern of zeros and ones using a slicing+striding approach."
      ]
    },
    {
      "cell_type": "code",
      "metadata": {
        "id": "No7fx0Xy9zEh",
        "colab_type": "code",
        "outputId": "afe84de3-6f46-4e32-dbbf-ca730c7b6817",
        "colab": {
          "base_uri": "https://localhost:8080/",
          "height": 166
        }
      },
      "source": [
        "import numpy as numpy\n",
        "array=numpy.ones((3,3))\n",
        "print(\"The required checkerboard pattern is:\")\n",
        "array=numpy.zeros((8,8),dtype=int)\n",
        "array[1::2,::2]=1\n",
        "array[::2,1::2]=1\n",
        "print(array)"
      ],
      "execution_count": 81,
      "outputs": [
        {
          "output_type": "stream",
          "text": [
            "The required checkerboard pattern is:\n",
            "[[0 1 0 1 0 1 0 1]\n",
            " [1 0 1 0 1 0 1 0]\n",
            " [0 1 0 1 0 1 0 1]\n",
            " [1 0 1 0 1 0 1 0]\n",
            " [0 1 0 1 0 1 0 1]\n",
            " [1 0 1 0 1 0 1 0]\n",
            " [0 1 0 1 0 1 0 1]\n",
            " [1 0 1 0 1 0 1 0]]\n"
          ],
          "name": "stdout"
        }
      ]
    }
  ]
}