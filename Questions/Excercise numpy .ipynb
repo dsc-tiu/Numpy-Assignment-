{
  "nbformat": 4,
  "nbformat_minor": 0,
  "metadata": {
    "colab": {
      "name": "Excercise numpy .ipynb",
      "provenance": []
    },
    "kernelspec": {
      "name": "python3",
      "display_name": "Python 3"
    }
  },
  "cells": [
    {
      "cell_type": "markdown",
      "metadata": {
        "id": "a_4UupTr9fbX",
        "colab_type": "text"
      },
      "source": [
        "# Numpy Exercises\n",
        "\n",
        "1) Create a uniform subdivision of the interval -1.3 to 2.5 with 64 subdivisions"
      ]
    },
    {
      "cell_type": "code",
      "metadata": {
        "id": "LIP5u4zi0Nmg",
        "colab_type": "code",
        "outputId": "33b2d6e8-8f01-4ae8-baaf-e7b7144dff12",
        "colab": {
          "base_uri": "https://localhost:8080/",
          "height": 204
        }
      },
      "source": [
        "import numpy as np #import numpy\n",
        "b = np.linspace(-1.3,2.5,64)\n",
        "print(b)"
      ],
      "execution_count": 1,
      "outputs": [
        {
          "output_type": "stream",
          "text": [
            "[-1.3        -1.23968254 -1.17936508 -1.11904762 -1.05873016 -0.9984127\n",
            " -0.93809524 -0.87777778 -0.81746032 -0.75714286 -0.6968254  -0.63650794\n",
            " -0.57619048 -0.51587302 -0.45555556 -0.3952381  -0.33492063 -0.27460317\n",
            " -0.21428571 -0.15396825 -0.09365079 -0.03333333  0.02698413  0.08730159\n",
            "  0.14761905  0.20793651  0.26825397  0.32857143  0.38888889  0.44920635\n",
            "  0.50952381  0.56984127  0.63015873  0.69047619  0.75079365  0.81111111\n",
            "  0.87142857  0.93174603  0.99206349  1.05238095  1.11269841  1.17301587\n",
            "  1.23333333  1.29365079  1.35396825  1.41428571  1.47460317  1.53492063\n",
            "  1.5952381   1.65555556  1.71587302  1.77619048  1.83650794  1.8968254\n",
            "  1.95714286  2.01746032  2.07777778  2.13809524  2.1984127   2.25873016\n",
            "  2.31904762  2.37936508  2.43968254  2.5       ]\n"
          ],
          "name": "stdout"
        }
      ]
    },
    {
      "cell_type": "markdown",
      "metadata": {
        "id": "dBoH_A7M9jjL",
        "colab_type": "text"
      },
      "source": [
        "2) Generate an array of length 3n filled with the cyclic pattern 1, 2, 3"
      ]
    },
    {
      "cell_type": "code",
      "metadata": {
        "id": "4TxT66309n1o",
        "colab_type": "code",
        "outputId": "c7f9cd9b-c670-432d-ec41-3f47b522e0cb",
        "colab": {
          "base_uri": "https://localhost:8080/",
          "height": 68
        }
      },
      "source": [
        "import numpy as np\n",
        "s=np.array([1,2,3])\n",
        "print (s)\n",
        "ns=input(\"Enter the length of the array: \")\n",
        "b=np.resize(s,(3*int(ns)))\n",
        "print (b)"
      ],
      "execution_count": 17,
      "outputs": [
        {
          "output_type": "stream",
          "text": [
            "[1 2 3]\n",
            "Enter the length of the array: 5\n",
            "[1 2 3 1 2 3 1 2 3 1 2 3 1 2 3]\n"
          ],
          "name": "stdout"
        }
      ]
    },
    {
      "cell_type": "markdown",
      "metadata": {
        "id": "Vh-UKizx9oTp",
        "colab_type": "text"
      },
      "source": [
        "3) Create an array of the first 10 odd integers."
      ]
    },
    {
      "cell_type": "code",
      "metadata": {
        "id": "ebhEUZq29r32",
        "colab_type": "code",
        "outputId": "16ac0d6e-0538-4a55-f6af-ef4c7d14074b",
        "colab": {
          "base_uri": "https://localhost:8080/",
          "height": 34
        }
      },
      "source": [
        "import numpy as np\n",
        "a=np.arange(1,20,2)\n",
        "print(a) "
      ],
      "execution_count": 4,
      "outputs": [
        {
          "output_type": "stream",
          "text": [
            "[ 1  3  5  7  9 11 13 15 17 19]\n"
          ],
          "name": "stdout"
        }
      ]
    },
    {
      "cell_type": "markdown",
      "metadata": {
        "id": "QfJRdMat90f4",
        "colab_type": "text"
      },
      "source": [
        "4) Find intersection of a and b"
      ]
    },
    {
      "cell_type": "code",
      "metadata": {
        "id": "gOlfuJCo-JwF",
        "colab_type": "code",
        "outputId": "c645e5d0-6880-4b90-a242-a04415ab2966",
        "colab": {
          "base_uri": "https://localhost:8080/",
          "height": 34
        }
      },
      "source": [
        "import numpy as np\n",
        "a1 = np.array([1,2,3,4,5])\n",
        "a2 = np.array([5,6,7,4,5,3])\n",
        "print(np.intersect1d(a1,a2))"
      ],
      "execution_count": 5,
      "outputs": [
        {
          "output_type": "stream",
          "text": [
            "[3 4 5]\n"
          ],
          "name": "stdout"
        }
      ]
    },
    {
      "cell_type": "markdown",
      "metadata": {
        "id": "RtVCf0UoCeB8",
        "colab_type": "text"
      },
      "source": [
        "5) Reshape 1d array a to 2d array of 2X5"
      ]
    },
    {
      "cell_type": "code",
      "metadata": {
        "id": "2E8b55_2Cjx5",
        "colab_type": "code",
        "outputId": "9561727d-d1d6-4957-ff3d-3c8e1e054a59",
        "colab": {
          "base_uri": "https://localhost:8080/",
          "height": 52
        }
      },
      "source": [
        "import numpy as np\n",
        "a = np.array([0,1, 2, 3, 4, 5, 6,7,8,9])\n",
        "b = np.reshape(a,(2,5))\n",
        "print(b)"
      ],
      "execution_count": 0,
      "outputs": [
        {
          "output_type": "stream",
          "text": [
            "[[0 1 2 3 4]\n",
            " [5 6 7 8 9]]\n"
          ],
          "name": "stdout"
        }
      ]
    },
    {
      "cell_type": "markdown",
      "metadata": {
        "id": "dVrSBW1zEjp2",
        "colab_type": "text"
      },
      "source": [
        "6) Change a numpy array to list and vice versa"
      ]
    },
    {
      "cell_type": "code",
      "metadata": {
        "id": "TLWmsiiR0-T6",
        "colab_type": "code",
        "outputId": "71be9de2-b1e8-4c78-a0e3-fbfd9b605df1",
        "colab": {
          "base_uri": "https://localhost:8080/",
          "height": 34
        }
      },
      "source": [
        "import numpy as np\n",
        "array = np.array([1,2,3,3,4,5,6,6,5,9])\n",
        "print(array.tolist()) #array to list"
      ],
      "execution_count": 6,
      "outputs": [
        {
          "output_type": "stream",
          "text": [
            "[1, 2, 3, 3, 4, 5, 6, 6, 5, 9]\n"
          ],
          "name": "stdout"
        }
      ]
    },
    {
      "cell_type": "code",
      "metadata": {
        "id": "DGcqFBR51jfh",
        "colab_type": "code",
        "outputId": "0e0ab628-6f45-4743-ced3-5e9e0b578e0f",
        "colab": {
          "base_uri": "https://localhost:8080/",
          "height": 34
        }
      },
      "source": [
        "import numpy as np\n",
        "list = [1,2,3,3,4,5,6,6,5,9]\n",
        "a = np.array(list)\n",
        "print(a)    #list to array\n"
      ],
      "execution_count": 9,
      "outputs": [
        {
          "output_type": "stream",
          "text": [
            "[1 2 3 3 4 5 6 6 5 9]\n"
          ],
          "name": "stdout"
        }
      ]
    },
    {
      "cell_type": "markdown",
      "metadata": {
        "id": "JNqX8wnz9sQJ",
        "colab_type": "text"
      },
      "source": [
        "7) Create a 10 x 10 arrays of zeros and then \"frame\" it with a border of ones."
      ]
    },
    {
      "cell_type": "code",
      "metadata": {
        "id": "4bjP3JAc9vRD",
        "colab_type": "code",
        "outputId": "18cf9359-e895-436f-f5a8-ef61da17c75c",
        "colab": {
          "base_uri": "https://localhost:8080/",
          "height": 425
        }
      },
      "source": [
        "import numpy as np\n",
        "a = np.zeros((10,10))\n",
        "print(\"Array of 10X10 before framing:\")\n",
        "print(a)\n",
        "print(\"Array of 10X10 after framing:\")\n",
        "a = np.pad(a, pad_width=1, mode='constant', constant_values=1)\n",
        "print(a)"
      ],
      "execution_count": 12,
      "outputs": [
        {
          "output_type": "stream",
          "text": [
            "Array of 10X10 before framing:\n",
            "[[0. 0. 0. 0. 0. 0. 0. 0. 0. 0.]\n",
            " [0. 0. 0. 0. 0. 0. 0. 0. 0. 0.]\n",
            " [0. 0. 0. 0. 0. 0. 0. 0. 0. 0.]\n",
            " [0. 0. 0. 0. 0. 0. 0. 0. 0. 0.]\n",
            " [0. 0. 0. 0. 0. 0. 0. 0. 0. 0.]\n",
            " [0. 0. 0. 0. 0. 0. 0. 0. 0. 0.]\n",
            " [0. 0. 0. 0. 0. 0. 0. 0. 0. 0.]\n",
            " [0. 0. 0. 0. 0. 0. 0. 0. 0. 0.]\n",
            " [0. 0. 0. 0. 0. 0. 0. 0. 0. 0.]\n",
            " [0. 0. 0. 0. 0. 0. 0. 0. 0. 0.]]\n",
            "Array of 10X10 after framing:\n",
            "[[1. 1. 1. 1. 1. 1. 1. 1. 1. 1. 1. 1.]\n",
            " [1. 0. 0. 0. 0. 0. 0. 0. 0. 0. 0. 1.]\n",
            " [1. 0. 0. 0. 0. 0. 0. 0. 0. 0. 0. 1.]\n",
            " [1. 0. 0. 0. 0. 0. 0. 0. 0. 0. 0. 1.]\n",
            " [1. 0. 0. 0. 0. 0. 0. 0. 0. 0. 0. 1.]\n",
            " [1. 0. 0. 0. 0. 0. 0. 0. 0. 0. 0. 1.]\n",
            " [1. 0. 0. 0. 0. 0. 0. 0. 0. 0. 0. 1.]\n",
            " [1. 0. 0. 0. 0. 0. 0. 0. 0. 0. 0. 1.]\n",
            " [1. 0. 0. 0. 0. 0. 0. 0. 0. 0. 0. 1.]\n",
            " [1. 0. 0. 0. 0. 0. 0. 0. 0. 0. 0. 1.]\n",
            " [1. 0. 0. 0. 0. 0. 0. 0. 0. 0. 0. 1.]\n",
            " [1. 1. 1. 1. 1. 1. 1. 1. 1. 1. 1. 1.]]\n"
          ],
          "name": "stdout"
        }
      ]
    },
    {
      "cell_type": "markdown",
      "metadata": {
        "id": "xaQgf8tT9v-n",
        "colab_type": "text"
      },
      "source": [
        "8) Create an 8 x 8 array with a checkerboard pattern of zeros and ones using a slicing+striding approach."
      ]
    },
    {
      "cell_type": "code",
      "metadata": {
        "id": "No7fx0Xy9zEh",
        "colab_type": "code",
        "outputId": "8c4fcd58-104c-48c3-e89e-0387e7caf3b5",
        "colab": {
          "base_uri": "https://localhost:8080/",
          "height": 153
        }
      },
      "source": [
        "import numpy as np\n",
        "a = np.ones((3,3))\n",
        "a = np.zeros((8,8),dtype=int)\n",
        "a[1::2,::2] = 1\n",
        "a[::2,1::2] = 1\n",
        "print(a)\n"
      ],
      "execution_count": 28,
      "outputs": [
        {
          "output_type": "stream",
          "text": [
            "[[0 1 0 1 0 1 0 1]\n",
            " [1 0 1 0 1 0 1 0]\n",
            " [0 1 0 1 0 1 0 1]\n",
            " [1 0 1 0 1 0 1 0]\n",
            " [0 1 0 1 0 1 0 1]\n",
            " [1 0 1 0 1 0 1 0]\n",
            " [0 1 0 1 0 1 0 1]\n",
            " [1 0 1 0 1 0 1 0]]\n"
          ],
          "name": "stdout"
        }
      ]
    }
  ]
}