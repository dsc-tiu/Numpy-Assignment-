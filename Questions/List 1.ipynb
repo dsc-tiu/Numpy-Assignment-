{
  "nbformat": 4,
  "nbformat_minor": 0,
  "metadata": {
    "colab": {
      "name": "List 1.ipynb",
      "provenance": []
    },
    "kernelspec": {
      "name": "python3",
      "display_name": "Python 3"
    }
  },
  "cells": [
    {
      "cell_type": "markdown",
      "metadata": {
        "id": "e0R1W0Vzm4UU",
        "colab_type": "text"
      },
      "source": [
        "# Exercise - List"
      ]
    },
    {
      "cell_type": "markdown",
      "metadata": {
        "id": "TrO7XNQnnQZ7",
        "colab_type": "text"
      },
      "source": [
        "1) Create  any random list and assign it to a variable dummy_list"
      ]
    },
    {
      "cell_type": "code",
      "metadata": {
        "id": "bjl-2QkznWid",
        "colab_type": "code",
        "outputId": "31d2161f-989f-4833-e627-55e2829a0739",
        "colab": {
          "base_uri": "https://localhost:8080/",
          "height": 34
        }
      },
      "source": [
        "a = [1,3,5,6,7,9,10,11,13,15]\n",
        "dummy_list = a\n",
        "print(dummy_list)"
      ],
      "execution_count": 1,
      "outputs": [
        {
          "output_type": "stream",
          "text": [
            "[1, 3, 5, 6, 7, 9, 10, 11, 13, 15]\n"
          ],
          "name": "stdout"
        }
      ]
    },
    {
      "cell_type": "markdown",
      "metadata": {
        "id": "cDjddNGfngnp",
        "colab_type": "text"
      },
      "source": [
        "2) print dummy_list"
      ]
    },
    {
      "cell_type": "code",
      "metadata": {
        "id": "RVL5178inz9M",
        "colab_type": "code",
        "outputId": "9ed67958-c462-476a-c169-79177708769d",
        "colab": {
          "base_uri": "https://localhost:8080/",
          "height": 34
        }
      },
      "source": [
        "print(dummy_list)"
      ],
      "execution_count": 2,
      "outputs": [
        {
          "output_type": "stream",
          "text": [
            "[1, 3, 5, 6, 7, 9, 10, 11, 13, 15]\n"
          ],
          "name": "stdout"
        }
      ]
    },
    {
      "cell_type": "markdown",
      "metadata": {
        "id": "15jKDXxkn16M",
        "colab_type": "text"
      },
      "source": [
        "3) Reverse dummy_list and print"
      ]
    },
    {
      "cell_type": "code",
      "metadata": {
        "id": "0Q5yeD9x9xIA",
        "colab_type": "code",
        "outputId": "66a580b5-38af-4b47-d45c-185436be3b2f",
        "colab": {
          "base_uri": "https://localhost:8080/",
          "height": 34
        }
      },
      "source": [
        "def Reverse(dummy_list): \n",
        "\tlist = dummy_list[::-1] \n",
        "\treturn list \n",
        "\t\n",
        "dummy_list = [1,3,5,6,7,9,10,11,13,15] \n",
        "print(Reverse(dummy_list)) "
      ],
      "execution_count": 3,
      "outputs": [
        {
          "output_type": "stream",
          "text": [
            "[15, 13, 11, 10, 9, 7, 6, 5, 3, 1]\n"
          ],
          "name": "stdout"
        }
      ]
    },
    {
      "cell_type": "markdown",
      "metadata": {
        "id": "EShv0nfXpUys",
        "colab_type": "text"
      },
      "source": [
        "4) Add the list dummy_list_2 to the previous dummy_list and now print dummy_list"
      ]
    },
    {
      "cell_type": "code",
      "metadata": {
        "id": "Ngkc7hnYphg6",
        "colab_type": "code",
        "colab": {}
      },
      "source": [
        "#dummy_list_2 = [2, 200, 16, 4, 1, 0, 9.45, 45.67, 90, 12.01, 12.02]"
      ],
      "execution_count": 0,
      "outputs": []
    },
    {
      "cell_type": "code",
      "metadata": {
        "colab_type": "code",
        "outputId": "e556787f-063a-4db3-8ff9-952b192605b3",
        "id": "5u_ZzmmJ-d1j",
        "colab": {
          "base_uri": "https://localhost:8080/",
          "height": 34
        }
      },
      "source": [
        "dummy_list = [1,3,5,6,7,9,10,11,13,15]\n",
        "dummy_list_2 = [2, 200, 16, 4, 1, 0, 9.45, 45.67, 90, 12.01, 12.02]\n",
        "dummy_list = dummy_list + dummy_list_2\n",
        "print(dummy_list)"
      ],
      "execution_count": 4,
      "outputs": [
        {
          "output_type": "stream",
          "text": [
            "[1, 3, 5, 6, 7, 9, 10, 11, 13, 15, 2, 200, 16, 4, 1, 0, 9.45, 45.67, 90, 12.01, 12.02]\n"
          ],
          "name": "stdout"
        }
      ]
    },
    {
      "cell_type": "markdown",
      "metadata": {
        "id": "Le1aRTuYoDzS",
        "colab_type": "text"
      },
      "source": [
        "5) Create a dictionary named dummy_dict which contains all the elements of dummy_list as keys and frequency as values. "
      ]
    },
    {
      "cell_type": "code",
      "metadata": {
        "id": "Nsm8sYPyJoVU",
        "colab_type": "code",
        "outputId": "83808e72-b569-4a90-9c97-c2c575a65acc",
        "colab": {
          "base_uri": "https://localhost:8080/",
          "height": 187
        }
      },
      "source": [
        "dummy_list = [1,3,5,6,7,9,10,11,13,15]\n",
        "\n",
        "dummy_dict = {}\n",
        "\n",
        "for i in range(len(dummy_list)):\n",
        "  dummy_dict[dummy_list[i]] = dummy_list.count(dummy_list[i])\n",
        "  print(dummy_dict)"
      ],
      "execution_count": 5,
      "outputs": [
        {
          "output_type": "stream",
          "text": [
            "{1: 1}\n",
            "{1: 1, 3: 1}\n",
            "{1: 1, 3: 1, 5: 1}\n",
            "{1: 1, 3: 1, 5: 1, 6: 1}\n",
            "{1: 1, 3: 1, 5: 1, 6: 1, 7: 1}\n",
            "{1: 1, 3: 1, 5: 1, 6: 1, 7: 1, 9: 1}\n",
            "{1: 1, 3: 1, 5: 1, 6: 1, 7: 1, 9: 1, 10: 1}\n",
            "{1: 1, 3: 1, 5: 1, 6: 1, 7: 1, 9: 1, 10: 1, 11: 1}\n",
            "{1: 1, 3: 1, 5: 1, 6: 1, 7: 1, 9: 1, 10: 1, 11: 1, 13: 1}\n",
            "{1: 1, 3: 1, 5: 1, 6: 1, 7: 1, 9: 1, 10: 1, 11: 1, 13: 1, 15: 1}\n"
          ],
          "name": "stdout"
        }
      ]
    },
    {
      "cell_type": "code",
      "metadata": {
        "id": "rtPC6WkSos-y",
        "colab_type": "code",
        "colab": {}
      },
      "source": [
        ""
      ],
      "execution_count": 0,
      "outputs": []
    },
    {
      "cell_type": "markdown",
      "metadata": {
        "id": "RgCYpFXGou6q",
        "colab_type": "text"
      },
      "source": [
        "6) print dummy_dict"
      ]
    },
    {
      "cell_type": "code",
      "metadata": {
        "id": "qe5E5IgxpTWU",
        "colab_type": "code",
        "outputId": "1f15afbe-4856-4888-c602-7c62c3f83d4a",
        "colab": {
          "base_uri": "https://localhost:8080/",
          "height": 34
        }
      },
      "source": [
        "print(dummy_dict)"
      ],
      "execution_count": 6,
      "outputs": [
        {
          "output_type": "stream",
          "text": [
            "{1: 1, 3: 1, 5: 1, 6: 1, 7: 1, 9: 1, 10: 1, 11: 1, 13: 1, 15: 1}\n"
          ],
          "name": "stdout"
        }
      ]
    },
    {
      "cell_type": "markdown",
      "metadata": {
        "id": "8n_nsBDup4--",
        "colab_type": "text"
      },
      "source": [
        "7) Sort dummy_list in ascending order as well as descending order and print the changed lists "
      ]
    },
    {
      "cell_type": "code",
      "metadata": {
        "colab_type": "code",
        "outputId": "a95b5328-2456-4d09-ddf1-42c5f27b137f",
        "id": "tFVJt1_x_nxr",
        "colab": {
          "base_uri": "https://localhost:8080/",
          "height": 34
        }
      },
      "source": [
        "dummy_list = [1,3,5,6,7,9,10,11,13,15]\n",
        "dummy_list.sort()\n",
        "print(dummy_list)\n"
      ],
      "execution_count": 7,
      "outputs": [
        {
          "output_type": "stream",
          "text": [
            "[1, 3, 5, 6, 7, 9, 10, 11, 13, 15]\n"
          ],
          "name": "stdout"
        }
      ]
    },
    {
      "cell_type": "code",
      "metadata": {
        "id": "ImQmpHY6_uoE",
        "colab_type": "code",
        "colab": {}
      },
      "source": [
        ""
      ],
      "execution_count": 0,
      "outputs": []
    },
    {
      "cell_type": "code",
      "metadata": {
        "colab_type": "code",
        "outputId": "7417a6ed-1591-45dc-ae7b-bd8210a7886a",
        "id": "YY2mWZkh_vHl",
        "colab": {
          "base_uri": "https://localhost:8080/",
          "height": 34
        }
      },
      "source": [
        "dummy_list = [1,3,5,6,7,9,10,11,13,15]\n",
        "dummy_list.sort(reverse=True)\n",
        "print(dummy_list)\n"
      ],
      "execution_count": 8,
      "outputs": [
        {
          "output_type": "stream",
          "text": [
            "[15, 13, 11, 10, 9, 7, 6, 5, 3, 1]\n"
          ],
          "name": "stdout"
        }
      ]
    },
    {
      "cell_type": "markdown",
      "metadata": {
        "id": "Znm5Qo4LqPKA",
        "colab_type": "text"
      },
      "source": [
        "8) Remove the first item from the list whose value is equal to x. It raises a ValueError if there is no such item."
      ]
    },
    {
      "cell_type": "code",
      "metadata": {
        "id": "1-8mlngDqYvS",
        "colab_type": "code",
        "colab": {}
      },
      "source": [
        "x = 200\n",
        "\n",
        "# Let's play: try the same with something which is not in the list to get the ValueError"
      ],
      "execution_count": 0,
      "outputs": []
    },
    {
      "cell_type": "code",
      "metadata": {
        "id": "qZ_OxRW8_6uU",
        "colab_type": "code",
        "outputId": "eaaec73d-5487-46a1-cf8c-c0145b0415b7",
        "colab": {
          "base_uri": "https://localhost:8080/",
          "height": 198
        }
      },
      "source": [
        "dummy_list = [1,3,5,6,7,9,10,11,13,15]\n",
        "dummy_list.remove(20) # 20 is not in this list\n",
        "print(dummy_list)"
      ],
      "execution_count": 9,
      "outputs": [
        {
          "output_type": "error",
          "ename": "ValueError",
          "evalue": "ignored",
          "traceback": [
            "\u001b[0;31m---------------------------------------------------------------------------\u001b[0m",
            "\u001b[0;31mValueError\u001b[0m                                Traceback (most recent call last)",
            "\u001b[0;32m<ipython-input-9-359b241d52b8>\u001b[0m in \u001b[0;36m<module>\u001b[0;34m()\u001b[0m\n\u001b[1;32m      1\u001b[0m \u001b[0mdummy_list\u001b[0m \u001b[0;34m=\u001b[0m \u001b[0;34m[\u001b[0m\u001b[0;36m1\u001b[0m\u001b[0;34m,\u001b[0m\u001b[0;36m3\u001b[0m\u001b[0;34m,\u001b[0m\u001b[0;36m5\u001b[0m\u001b[0;34m,\u001b[0m\u001b[0;36m6\u001b[0m\u001b[0;34m,\u001b[0m\u001b[0;36m7\u001b[0m\u001b[0;34m,\u001b[0m\u001b[0;36m9\u001b[0m\u001b[0;34m,\u001b[0m\u001b[0;36m10\u001b[0m\u001b[0;34m,\u001b[0m\u001b[0;36m11\u001b[0m\u001b[0;34m,\u001b[0m\u001b[0;36m13\u001b[0m\u001b[0;34m,\u001b[0m\u001b[0;36m15\u001b[0m\u001b[0;34m]\u001b[0m\u001b[0;34m\u001b[0m\u001b[0;34m\u001b[0m\u001b[0m\n\u001b[0;32m----> 2\u001b[0;31m \u001b[0mdummy_list\u001b[0m\u001b[0;34m.\u001b[0m\u001b[0mremove\u001b[0m\u001b[0;34m(\u001b[0m\u001b[0;36m20\u001b[0m\u001b[0;34m)\u001b[0m \u001b[0;31m# 20 is not in this list\u001b[0m\u001b[0;34m\u001b[0m\u001b[0;34m\u001b[0m\u001b[0m\n\u001b[0m\u001b[1;32m      3\u001b[0m \u001b[0mprint\u001b[0m\u001b[0;34m(\u001b[0m\u001b[0mdummy_list\u001b[0m\u001b[0;34m)\u001b[0m\u001b[0;34m\u001b[0m\u001b[0;34m\u001b[0m\u001b[0m\n",
            "\u001b[0;31mValueError\u001b[0m: list.remove(x): x not in list"
          ]
        }
      ]
    },
    {
      "cell_type": "markdown",
      "metadata": {
        "id": "QPB6iGbeqviN",
        "colab_type": "text"
      },
      "source": [
        "9) Remove the item at position x. x is any random integer"
      ]
    },
    {
      "cell_type": "code",
      "metadata": {
        "id": "aMyo1gmRrVHo",
        "colab_type": "code",
        "outputId": "fc3b6fec-77b7-45b2-cd66-96fcc47235b4",
        "colab": {
          "base_uri": "https://localhost:8080/",
          "height": 181
        }
      },
      "source": [
        "# Let's play: try doing the same with x > len(dummy_list) + 1 and see what you get\n",
        "dummy_list.remove(12) #12 is not in this list\n",
        "print(dummy_list)"
      ],
      "execution_count": 11,
      "outputs": [
        {
          "output_type": "error",
          "ename": "ValueError",
          "evalue": "ignored",
          "traceback": [
            "\u001b[0;31m---------------------------------------------------------------------------\u001b[0m",
            "\u001b[0;31mValueError\u001b[0m                                Traceback (most recent call last)",
            "\u001b[0;32m<ipython-input-11-41dfa5f7a529>\u001b[0m in \u001b[0;36m<module>\u001b[0;34m()\u001b[0m\n\u001b[0;32m----> 1\u001b[0;31m \u001b[0mdummy_list\u001b[0m\u001b[0;34m.\u001b[0m\u001b[0mremove\u001b[0m\u001b[0;34m(\u001b[0m\u001b[0;36m12\u001b[0m\u001b[0;34m)\u001b[0m \u001b[0;31m#12 is not in this list\u001b[0m\u001b[0;34m\u001b[0m\u001b[0;34m\u001b[0m\u001b[0m\n\u001b[0m\u001b[1;32m      2\u001b[0m \u001b[0mprint\u001b[0m\u001b[0;34m(\u001b[0m\u001b[0mdummy_list\u001b[0m\u001b[0;34m)\u001b[0m\u001b[0;34m\u001b[0m\u001b[0;34m\u001b[0m\u001b[0m\n",
            "\u001b[0;31mValueError\u001b[0m: list.remove(x): x not in list"
          ]
        }
      ]
    },
    {
      "cell_type": "markdown",
      "metadata": {
        "id": "bqQnnsr8rm6G",
        "colab_type": "text"
      },
      "source": [
        "10) Let's clean everything clear the list and then print"
      ]
    },
    {
      "cell_type": "code",
      "metadata": {
        "id": "qBC8lKpLrtJW",
        "colab_type": "code",
        "outputId": "c98cf323-fd13-4123-e0c6-ae27e9ef25e5",
        "colab": {
          "base_uri": "https://localhost:8080/",
          "height": 34
        }
      },
      "source": [
        "dummy_list.clear()\n",
        "print(dummy_list)"
      ],
      "execution_count": 12,
      "outputs": [
        {
          "output_type": "stream",
          "text": [
            "[]\n"
          ],
          "name": "stdout"
        }
      ]
    }
  ]
}